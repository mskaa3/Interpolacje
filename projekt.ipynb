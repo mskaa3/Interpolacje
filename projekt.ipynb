{
 "cells": [
  {
   "cell_type": "markdown",
   "id": "aeeeb67b-728d-4a87-9139-7a2ced42df87",
   "metadata": {},
   "source": [
    "Interpolacje\n"
   ]
  },
  {
   "cell_type": "code",
   "execution_count": null,
   "id": "c9ad8545-c390-4caf-a619-b488527b0550",
   "metadata": {},
   "outputs": [],
   "source": []
  },
  {
   "cell_type": "code",
   "execution_count": null,
   "id": "cf4167eb-3241-4517-b21b-2a1adf113d65",
   "metadata": {},
   "outputs": [],
   "source": []
  }
 ],
 "metadata": {
  "kernelspec": {
   "display_name": "Julia 1.7.2",
   "language": "julia",
   "name": "julia-1.7"
  },
  "language_info": {
   "file_extension": ".jl",
   "mimetype": "application/julia",
   "name": "julia",
   "version": "1.7.2"
  }
 },
 "nbformat": 4,
 "nbformat_minor": 5
}
